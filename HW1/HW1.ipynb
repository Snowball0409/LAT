{
  "nbformat": 4,
  "nbformat_minor": 0,
  "metadata": {
    "colab": {
      "provenance": []
    },
    "kernelspec": {
      "name": "python3",
      "display_name": "Python 3"
    },
    "language_info": {
      "name": "python"
    }
  },
  "cells": [
    {
      "cell_type": "markdown",
      "source": [
        "# HW 1 \n",
        "\n",
        "\n",
        "---\n",
        "\n",
        "\n",
        "## Description\n",
        "主題：大專院校各系所錄取分布  \n",
        "來源：[政府資料開放平台](https://data.gov.tw/dataset/151515)  \n",
        "###資料描述：  \n",
        "> 資料格式：XML  \n",
        "> 資料內容：各領域學生人數與學生性別分布\n",
        "> 資料時間：民國97~110年  \n",
        "### 問題描述：  \n",
        "近年來，無論是高中生與技高(即高職)生，在高中職畢業後的選擇都逐漸趨向大學，而非直接就業。作為教育學程的修習學生，我希望可以了解近年來學生對於大學與研究所的科目與進修意願的比例。  \n",
        "問題將以**性別，學士/碩士，綜合資料**為統計標準\n",
        "\n",
        "## Environment\n",
        "> Google Colab  \n",
        "\n",
        "## Question\n",
        "\n",
        "1. 最多人數的領域\n",
        "2. 最少人數的領域\n",
        "3. 最多人數領域於該年的占比\n",
        "4. 最少人數領域於該年的占比\n",
        "5. 最多男性學生的領域\n",
        "6. 最多女性學生的領域\n",
        "7. 碩士班最多學生的領域\n",
        "8. 碩士班最少學生的領域\n",
        "9. 學士班最多學生的領域\n",
        "10. 學士班最少學生的領域\n"
      ],
      "metadata": {
        "id": "8MxXnnJKbi9U"
      }
    },
    {
      "cell_type": "code",
      "source": [
        "from google.colab import files\n",
        "uploaded = files.upload()"
      ],
      "metadata": {
        "colab": {
          "base_uri": "https://localhost:8080/",
          "height": 75
        },
        "id": "00eHwcB0jBzr",
        "outputId": "b71d0323-b0ea-417c-991c-86abceb6a4c6"
      },
      "execution_count": 2,
      "outputs": [
        {
          "output_type": "display_data",
          "data": {
            "text/plain": [
              "<IPython.core.display.HTML object>"
            ],
            "text/html": [
              "\n",
              "     <input type=\"file\" id=\"files-4a5be6c9-c8b1-48d5-b281-d69b71d82049\" name=\"files[]\" multiple disabled\n",
              "        style=\"border:none\" />\n",
              "     <output id=\"result-4a5be6c9-c8b1-48d5-b281-d69b71d82049\">\n",
              "      Upload widget is only available when the cell has been executed in the\n",
              "      current browser session. Please rerun this cell to enable.\n",
              "      </output>\n",
              "      <script>// Copyright 2017 Google LLC\n",
              "//\n",
              "// Licensed under the Apache License, Version 2.0 (the \"License\");\n",
              "// you may not use this file except in compliance with the License.\n",
              "// You may obtain a copy of the License at\n",
              "//\n",
              "//      http://www.apache.org/licenses/LICENSE-2.0\n",
              "//\n",
              "// Unless required by applicable law or agreed to in writing, software\n",
              "// distributed under the License is distributed on an \"AS IS\" BASIS,\n",
              "// WITHOUT WARRANTIES OR CONDITIONS OF ANY KIND, either express or implied.\n",
              "// See the License for the specific language governing permissions and\n",
              "// limitations under the License.\n",
              "\n",
              "/**\n",
              " * @fileoverview Helpers for google.colab Python module.\n",
              " */\n",
              "(function(scope) {\n",
              "function span(text, styleAttributes = {}) {\n",
              "  const element = document.createElement('span');\n",
              "  element.textContent = text;\n",
              "  for (const key of Object.keys(styleAttributes)) {\n",
              "    element.style[key] = styleAttributes[key];\n",
              "  }\n",
              "  return element;\n",
              "}\n",
              "\n",
              "// Max number of bytes which will be uploaded at a time.\n",
              "const MAX_PAYLOAD_SIZE = 100 * 1024;\n",
              "\n",
              "function _uploadFiles(inputId, outputId) {\n",
              "  const steps = uploadFilesStep(inputId, outputId);\n",
              "  const outputElement = document.getElementById(outputId);\n",
              "  // Cache steps on the outputElement to make it available for the next call\n",
              "  // to uploadFilesContinue from Python.\n",
              "  outputElement.steps = steps;\n",
              "\n",
              "  return _uploadFilesContinue(outputId);\n",
              "}\n",
              "\n",
              "// This is roughly an async generator (not supported in the browser yet),\n",
              "// where there are multiple asynchronous steps and the Python side is going\n",
              "// to poll for completion of each step.\n",
              "// This uses a Promise to block the python side on completion of each step,\n",
              "// then passes the result of the previous step as the input to the next step.\n",
              "function _uploadFilesContinue(outputId) {\n",
              "  const outputElement = document.getElementById(outputId);\n",
              "  const steps = outputElement.steps;\n",
              "\n",
              "  const next = steps.next(outputElement.lastPromiseValue);\n",
              "  return Promise.resolve(next.value.promise).then((value) => {\n",
              "    // Cache the last promise value to make it available to the next\n",
              "    // step of the generator.\n",
              "    outputElement.lastPromiseValue = value;\n",
              "    return next.value.response;\n",
              "  });\n",
              "}\n",
              "\n",
              "/**\n",
              " * Generator function which is called between each async step of the upload\n",
              " * process.\n",
              " * @param {string} inputId Element ID of the input file picker element.\n",
              " * @param {string} outputId Element ID of the output display.\n",
              " * @return {!Iterable<!Object>} Iterable of next steps.\n",
              " */\n",
              "function* uploadFilesStep(inputId, outputId) {\n",
              "  const inputElement = document.getElementById(inputId);\n",
              "  inputElement.disabled = false;\n",
              "\n",
              "  const outputElement = document.getElementById(outputId);\n",
              "  outputElement.innerHTML = '';\n",
              "\n",
              "  const pickedPromise = new Promise((resolve) => {\n",
              "    inputElement.addEventListener('change', (e) => {\n",
              "      resolve(e.target.files);\n",
              "    });\n",
              "  });\n",
              "\n",
              "  const cancel = document.createElement('button');\n",
              "  inputElement.parentElement.appendChild(cancel);\n",
              "  cancel.textContent = 'Cancel upload';\n",
              "  const cancelPromise = new Promise((resolve) => {\n",
              "    cancel.onclick = () => {\n",
              "      resolve(null);\n",
              "    };\n",
              "  });\n",
              "\n",
              "  // Wait for the user to pick the files.\n",
              "  const files = yield {\n",
              "    promise: Promise.race([pickedPromise, cancelPromise]),\n",
              "    response: {\n",
              "      action: 'starting',\n",
              "    }\n",
              "  };\n",
              "\n",
              "  cancel.remove();\n",
              "\n",
              "  // Disable the input element since further picks are not allowed.\n",
              "  inputElement.disabled = true;\n",
              "\n",
              "  if (!files) {\n",
              "    return {\n",
              "      response: {\n",
              "        action: 'complete',\n",
              "      }\n",
              "    };\n",
              "  }\n",
              "\n",
              "  for (const file of files) {\n",
              "    const li = document.createElement('li');\n",
              "    li.append(span(file.name, {fontWeight: 'bold'}));\n",
              "    li.append(span(\n",
              "        `(${file.type || 'n/a'}) - ${file.size} bytes, ` +\n",
              "        `last modified: ${\n",
              "            file.lastModifiedDate ? file.lastModifiedDate.toLocaleDateString() :\n",
              "                                    'n/a'} - `));\n",
              "    const percent = span('0% done');\n",
              "    li.appendChild(percent);\n",
              "\n",
              "    outputElement.appendChild(li);\n",
              "\n",
              "    const fileDataPromise = new Promise((resolve) => {\n",
              "      const reader = new FileReader();\n",
              "      reader.onload = (e) => {\n",
              "        resolve(e.target.result);\n",
              "      };\n",
              "      reader.readAsArrayBuffer(file);\n",
              "    });\n",
              "    // Wait for the data to be ready.\n",
              "    let fileData = yield {\n",
              "      promise: fileDataPromise,\n",
              "      response: {\n",
              "        action: 'continue',\n",
              "      }\n",
              "    };\n",
              "\n",
              "    // Use a chunked sending to avoid message size limits. See b/62115660.\n",
              "    let position = 0;\n",
              "    do {\n",
              "      const length = Math.min(fileData.byteLength - position, MAX_PAYLOAD_SIZE);\n",
              "      const chunk = new Uint8Array(fileData, position, length);\n",
              "      position += length;\n",
              "\n",
              "      const base64 = btoa(String.fromCharCode.apply(null, chunk));\n",
              "      yield {\n",
              "        response: {\n",
              "          action: 'append',\n",
              "          file: file.name,\n",
              "          data: base64,\n",
              "        },\n",
              "      };\n",
              "\n",
              "      let percentDone = fileData.byteLength === 0 ?\n",
              "          100 :\n",
              "          Math.round((position / fileData.byteLength) * 100);\n",
              "      percent.textContent = `${percentDone}% done`;\n",
              "\n",
              "    } while (position < fileData.byteLength);\n",
              "  }\n",
              "\n",
              "  // All done.\n",
              "  yield {\n",
              "    response: {\n",
              "      action: 'complete',\n",
              "    }\n",
              "  };\n",
              "}\n",
              "\n",
              "scope.google = scope.google || {};\n",
              "scope.google.colab = scope.google.colab || {};\n",
              "scope.google.colab._files = {\n",
              "  _uploadFiles,\n",
              "  _uploadFilesContinue,\n",
              "};\n",
              "})(self);\n",
              "</script> "
            ]
          },
          "metadata": {}
        },
        {
          "output_type": "stream",
          "name": "stdout",
          "text": [
            "Saving 大專校院學生人數(領域).XML to 大專校院學生人數(領域).XML\n"
          ]
        }
      ]
    },
    {
      "cell_type": "code",
      "execution_count": 3,
      "metadata": {
        "colab": {
          "base_uri": "https://localhost:8080/"
        },
        "id": "OVdtEx7fbgke",
        "outputId": "c76e537f-eef3-475d-86f4-0cc5bcb2586d"
      },
      "outputs": [
        {
          "output_type": "stream",
          "name": "stdout",
          "text": [
            "Looking in indexes: https://pypi.org/simple, https://us-python.pkg.dev/colab-wheels/public/simple/\n",
            "Requirement already satisfied: pandas in /usr/local/lib/python3.9/dist-packages (1.4.4)\n",
            "Requirement already satisfied: numpy>=1.18.5 in /usr/local/lib/python3.9/dist-packages (from pandas) (1.22.4)\n",
            "Requirement already satisfied: pytz>=2020.1 in /usr/local/lib/python3.9/dist-packages (from pandas) (2022.7.1)\n",
            "Requirement already satisfied: python-dateutil>=2.8.1 in /usr/local/lib/python3.9/dist-packages (from pandas) (2.8.2)\n",
            "Requirement already satisfied: six>=1.5 in /usr/local/lib/python3.9/dist-packages (from python-dateutil>=2.8.1->pandas) (1.15.0)\n"
          ]
        }
      ],
      "source": [
        "!pip install pandas"
      ]
    },
    {
      "cell_type": "code",
      "source": [
        "import pandas as pd\n",
        "import xml.etree.ElementTree as ET\n",
        "import io\n",
        "from IPython.display import display\n",
        "\n",
        "xml_data = \"/content/大專校院學生人數(領域).XML\"\n",
        "data = pd.read_xml(xml_data)\n",
        "period = 11000\n",
        "display(data)\n"
      ],
      "metadata": {
        "colab": {
          "base_uri": "https://localhost:8080/",
          "height": 423
        },
        "id": "GQd7KRiidBrc",
        "outputId": "1c38afc2-d3e1-4536-81e1-e24b2859ed34"
      },
      "execution_count": 12,
      "outputs": [
        {
          "output_type": "display_data",
          "data": {
            "text/plain": [
              "     Category1Title Category2Title   Category3Title Category4Title  \\\n",
              "0                總計             總計         資訊通訊科技領域              -   \n",
              "1                總計             總計      醫藥衛生及社會福利領域              -   \n",
              "2                總計            博士班         資訊通訊科技領域              -   \n",
              "3                總計            博士班      醫藥衛生及社會福利領域              -   \n",
              "4                總計            碩士班         資訊通訊科技領域              -   \n",
              "...             ...            ...              ...            ...   \n",
              "2440             總計             總計             服務領域              -   \n",
              "2441             總計             專科               總計              -   \n",
              "2442             總計            博士班               總計              -   \n",
              "2443             總計            博士班  社會科學、新聞學及圖書資訊領域              -   \n",
              "2444             總計            博士班             服務領域              -   \n",
              "\n",
              "     Category5Title  Period       Val  \n",
              "0                 -    9700  105725.0  \n",
              "1                 -    9700  144690.0  \n",
              "2                 -    9700    2195.0  \n",
              "3                 -    9700    2867.0  \n",
              "4                 -    9700   10981.0  \n",
              "...             ...     ...       ...  \n",
              "2440              -   11000  124606.0  \n",
              "2441              -   11000   83669.0  \n",
              "2442              -   11000   28907.0  \n",
              "2443              -   11000    1613.0  \n",
              "2444              -   11000     304.0  \n",
              "\n",
              "[2445 rows x 7 columns]"
            ],
            "text/html": [
              "\n",
              "  <div id=\"df-2715a275-66c5-4510-855f-84662158131c\">\n",
              "    <div class=\"colab-df-container\">\n",
              "      <div>\n",
              "<style scoped>\n",
              "    .dataframe tbody tr th:only-of-type {\n",
              "        vertical-align: middle;\n",
              "    }\n",
              "\n",
              "    .dataframe tbody tr th {\n",
              "        vertical-align: top;\n",
              "    }\n",
              "\n",
              "    .dataframe thead th {\n",
              "        text-align: right;\n",
              "    }\n",
              "</style>\n",
              "<table border=\"1\" class=\"dataframe\">\n",
              "  <thead>\n",
              "    <tr style=\"text-align: right;\">\n",
              "      <th></th>\n",
              "      <th>Category1Title</th>\n",
              "      <th>Category2Title</th>\n",
              "      <th>Category3Title</th>\n",
              "      <th>Category4Title</th>\n",
              "      <th>Category5Title</th>\n",
              "      <th>Period</th>\n",
              "      <th>Val</th>\n",
              "    </tr>\n",
              "  </thead>\n",
              "  <tbody>\n",
              "    <tr>\n",
              "      <th>0</th>\n",
              "      <td>總計</td>\n",
              "      <td>總計</td>\n",
              "      <td>資訊通訊科技領域</td>\n",
              "      <td>-</td>\n",
              "      <td>-</td>\n",
              "      <td>9700</td>\n",
              "      <td>105725.0</td>\n",
              "    </tr>\n",
              "    <tr>\n",
              "      <th>1</th>\n",
              "      <td>總計</td>\n",
              "      <td>總計</td>\n",
              "      <td>醫藥衛生及社會福利領域</td>\n",
              "      <td>-</td>\n",
              "      <td>-</td>\n",
              "      <td>9700</td>\n",
              "      <td>144690.0</td>\n",
              "    </tr>\n",
              "    <tr>\n",
              "      <th>2</th>\n",
              "      <td>總計</td>\n",
              "      <td>博士班</td>\n",
              "      <td>資訊通訊科技領域</td>\n",
              "      <td>-</td>\n",
              "      <td>-</td>\n",
              "      <td>9700</td>\n",
              "      <td>2195.0</td>\n",
              "    </tr>\n",
              "    <tr>\n",
              "      <th>3</th>\n",
              "      <td>總計</td>\n",
              "      <td>博士班</td>\n",
              "      <td>醫藥衛生及社會福利領域</td>\n",
              "      <td>-</td>\n",
              "      <td>-</td>\n",
              "      <td>9700</td>\n",
              "      <td>2867.0</td>\n",
              "    </tr>\n",
              "    <tr>\n",
              "      <th>4</th>\n",
              "      <td>總計</td>\n",
              "      <td>碩士班</td>\n",
              "      <td>資訊通訊科技領域</td>\n",
              "      <td>-</td>\n",
              "      <td>-</td>\n",
              "      <td>9700</td>\n",
              "      <td>10981.0</td>\n",
              "    </tr>\n",
              "    <tr>\n",
              "      <th>...</th>\n",
              "      <td>...</td>\n",
              "      <td>...</td>\n",
              "      <td>...</td>\n",
              "      <td>...</td>\n",
              "      <td>...</td>\n",
              "      <td>...</td>\n",
              "      <td>...</td>\n",
              "    </tr>\n",
              "    <tr>\n",
              "      <th>2440</th>\n",
              "      <td>總計</td>\n",
              "      <td>總計</td>\n",
              "      <td>服務領域</td>\n",
              "      <td>-</td>\n",
              "      <td>-</td>\n",
              "      <td>11000</td>\n",
              "      <td>124606.0</td>\n",
              "    </tr>\n",
              "    <tr>\n",
              "      <th>2441</th>\n",
              "      <td>總計</td>\n",
              "      <td>專科</td>\n",
              "      <td>總計</td>\n",
              "      <td>-</td>\n",
              "      <td>-</td>\n",
              "      <td>11000</td>\n",
              "      <td>83669.0</td>\n",
              "    </tr>\n",
              "    <tr>\n",
              "      <th>2442</th>\n",
              "      <td>總計</td>\n",
              "      <td>博士班</td>\n",
              "      <td>總計</td>\n",
              "      <td>-</td>\n",
              "      <td>-</td>\n",
              "      <td>11000</td>\n",
              "      <td>28907.0</td>\n",
              "    </tr>\n",
              "    <tr>\n",
              "      <th>2443</th>\n",
              "      <td>總計</td>\n",
              "      <td>博士班</td>\n",
              "      <td>社會科學、新聞學及圖書資訊領域</td>\n",
              "      <td>-</td>\n",
              "      <td>-</td>\n",
              "      <td>11000</td>\n",
              "      <td>1613.0</td>\n",
              "    </tr>\n",
              "    <tr>\n",
              "      <th>2444</th>\n",
              "      <td>總計</td>\n",
              "      <td>博士班</td>\n",
              "      <td>服務領域</td>\n",
              "      <td>-</td>\n",
              "      <td>-</td>\n",
              "      <td>11000</td>\n",
              "      <td>304.0</td>\n",
              "    </tr>\n",
              "  </tbody>\n",
              "</table>\n",
              "<p>2445 rows × 7 columns</p>\n",
              "</div>\n",
              "      <button class=\"colab-df-convert\" onclick=\"convertToInteractive('df-2715a275-66c5-4510-855f-84662158131c')\"\n",
              "              title=\"Convert this dataframe to an interactive table.\"\n",
              "              style=\"display:none;\">\n",
              "        \n",
              "  <svg xmlns=\"http://www.w3.org/2000/svg\" height=\"24px\"viewBox=\"0 0 24 24\"\n",
              "       width=\"24px\">\n",
              "    <path d=\"M0 0h24v24H0V0z\" fill=\"none\"/>\n",
              "    <path d=\"M18.56 5.44l.94 2.06.94-2.06 2.06-.94-2.06-.94-.94-2.06-.94 2.06-2.06.94zm-11 1L8.5 8.5l.94-2.06 2.06-.94-2.06-.94L8.5 2.5l-.94 2.06-2.06.94zm10 10l.94 2.06.94-2.06 2.06-.94-2.06-.94-.94-2.06-.94 2.06-2.06.94z\"/><path d=\"M17.41 7.96l-1.37-1.37c-.4-.4-.92-.59-1.43-.59-.52 0-1.04.2-1.43.59L10.3 9.45l-7.72 7.72c-.78.78-.78 2.05 0 2.83L4 21.41c.39.39.9.59 1.41.59.51 0 1.02-.2 1.41-.59l7.78-7.78 2.81-2.81c.8-.78.8-2.07 0-2.86zM5.41 20L4 18.59l7.72-7.72 1.47 1.35L5.41 20z\"/>\n",
              "  </svg>\n",
              "      </button>\n",
              "      \n",
              "  <style>\n",
              "    .colab-df-container {\n",
              "      display:flex;\n",
              "      flex-wrap:wrap;\n",
              "      gap: 12px;\n",
              "    }\n",
              "\n",
              "    .colab-df-convert {\n",
              "      background-color: #E8F0FE;\n",
              "      border: none;\n",
              "      border-radius: 50%;\n",
              "      cursor: pointer;\n",
              "      display: none;\n",
              "      fill: #1967D2;\n",
              "      height: 32px;\n",
              "      padding: 0 0 0 0;\n",
              "      width: 32px;\n",
              "    }\n",
              "\n",
              "    .colab-df-convert:hover {\n",
              "      background-color: #E2EBFA;\n",
              "      box-shadow: 0px 1px 2px rgba(60, 64, 67, 0.3), 0px 1px 3px 1px rgba(60, 64, 67, 0.15);\n",
              "      fill: #174EA6;\n",
              "    }\n",
              "\n",
              "    [theme=dark] .colab-df-convert {\n",
              "      background-color: #3B4455;\n",
              "      fill: #D2E3FC;\n",
              "    }\n",
              "\n",
              "    [theme=dark] .colab-df-convert:hover {\n",
              "      background-color: #434B5C;\n",
              "      box-shadow: 0px 1px 3px 1px rgba(0, 0, 0, 0.15);\n",
              "      filter: drop-shadow(0px 1px 2px rgba(0, 0, 0, 0.3));\n",
              "      fill: #FFFFFF;\n",
              "    }\n",
              "  </style>\n",
              "\n",
              "      <script>\n",
              "        const buttonEl =\n",
              "          document.querySelector('#df-2715a275-66c5-4510-855f-84662158131c button.colab-df-convert');\n",
              "        buttonEl.style.display =\n",
              "          google.colab.kernel.accessAllowed ? 'block' : 'none';\n",
              "\n",
              "        async function convertToInteractive(key) {\n",
              "          const element = document.querySelector('#df-2715a275-66c5-4510-855f-84662158131c');\n",
              "          const dataTable =\n",
              "            await google.colab.kernel.invokeFunction('convertToInteractive',\n",
              "                                                     [key], {});\n",
              "          if (!dataTable) return;\n",
              "\n",
              "          const docLinkHtml = 'Like what you see? Visit the ' +\n",
              "            '<a target=\"_blank\" href=https://colab.research.google.com/notebooks/data_table.ipynb>data table notebook</a>'\n",
              "            + ' to learn more about interactive tables.';\n",
              "          element.innerHTML = '';\n",
              "          dataTable['output_type'] = 'display_data';\n",
              "          await google.colab.output.renderOutput(dataTable, element);\n",
              "          const docLink = document.createElement('div');\n",
              "          docLink.innerHTML = docLinkHtml;\n",
              "          element.appendChild(docLink);\n",
              "        }\n",
              "      </script>\n",
              "    </div>\n",
              "  </div>\n",
              "  "
            ]
          },
          "metadata": {}
        }
      ]
    },
    {
      "cell_type": "code",
      "source": [
        "#Question 1\n",
        "filter = (data[\"Category1Title\"]=='總計') & (data[\"Category2Title\"]=='總計') & (data[\"Category3Title\"]!='總計') & (data[\"Period\"]==period)\n",
        "max_student = data[filter].max()\n",
        "print('1. 最多人數的領域：',max_student.Category3Title,', 共',max_student.Val,'人, 年分：', int(max_student.Period/100))"
      ],
      "metadata": {
        "colab": {
          "base_uri": "https://localhost:8080/"
        },
        "id": "DI2lgfFEkuN8",
        "outputId": "702ae1c4-9dc9-4db0-aa18-d740b01e1ba9"
      },
      "execution_count": 17,
      "outputs": [
        {
          "output_type": "stream",
          "name": "stdout",
          "text": [
            "1. 最多人數的領域： 醫藥衛生及社會福利領域 , 共 241193.0 人, 年分： 110\n"
          ]
        }
      ]
    },
    {
      "cell_type": "code",
      "source": [
        "#Question 2\n",
        "filter = (data[\"Category1Title\"]=='總計') & (data[\"Category2Title\"]=='總計') & (data[\"Category3Title\"]!='總計') & (data[\"Category3Title\"]!='其他領域') & (data[\"Period\"]==period)\n",
        "min_student = data[filter].min()\n",
        "print('2. 最少人數的領域：',min_student.Category3Title,', 共',min_student.Val,'人, 年分：', int(min_student.Period/100))"
      ],
      "metadata": {
        "colab": {
          "base_uri": "https://localhost:8080/"
        },
        "id": "BXNymyqkn_s9",
        "outputId": "b033d54e-99ac-4e16-b751-a21943df4b80"
      },
      "execution_count": 13,
      "outputs": [
        {
          "output_type": "stream",
          "name": "stdout",
          "text": [
            "2. 最少人數的領域： 商業、管理及法律領域 , 共 17175.0 人, 年分： 110\n"
          ]
        }
      ]
    },
    {
      "cell_type": "code",
      "source": [
        "#Question 3\n",
        "filter = (data[\"Category3Title\"]==\"總計\") & (data[\"Period\"]==max_student.Period) & (data[\"Category1Title\"]==\"總計\") & (data[\"Category2Title\"]==\"總計\")\n",
        "print(\"3. 最多人數的領域在該年的占比：\", float(max_student.Val/data[filter].Val))"
      ],
      "metadata": {
        "colab": {
          "base_uri": "https://localhost:8080/"
        },
        "id": "Vxd8pYkNoTnt",
        "outputId": "deabf894-37a1-402e-9c02-2d30b8056e7e"
      },
      "execution_count": 18,
      "outputs": [
        {
          "output_type": "stream",
          "name": "stdout",
          "text": [
            "3. 最多人數的領域在該年的占比： 0.20339593364984862\n"
          ]
        }
      ]
    },
    {
      "cell_type": "code",
      "source": [
        "#Question 4\n",
        "print(\"4. 最少人數的領域在該年的占比：\", float(min_student.Val/data[filter].Val))"
      ],
      "metadata": {
        "colab": {
          "base_uri": "https://localhost:8080/"
        },
        "id": "GZQZFdCJu6vG",
        "outputId": "3763bcd6-b55f-4649-9f48-ecb17c67cf5b"
      },
      "execution_count": 19,
      "outputs": [
        {
          "output_type": "stream",
          "name": "stdout",
          "text": [
            "4. 最少人數的領域在該年的占比： 0.014483526306468887\n"
          ]
        }
      ]
    },
    {
      "cell_type": "code",
      "source": [
        "#Question 5\n",
        "filter = (data[\"Category1Title\"]=='男') & (data[\"Category2Title\"]=='總計') & (data[\"Period\"]==period)\n",
        "max_male = data[filter].max()\n",
        "print('5. 最多男性學生人數的領域：',max_male.Category3Title,', 共',max_male.Val,'人, 年分：', int(max_male.Period/100))"
      ],
      "metadata": {
        "colab": {
          "base_uri": "https://localhost:8080/"
        },
        "id": "Mv4lFMSIvcrm",
        "outputId": "43e9b5da-5303-4399-80e1-d263fb0965ce"
      },
      "execution_count": 5,
      "outputs": [
        {
          "output_type": "stream",
          "name": "stdout",
          "text": [
            "5. 最多男性學生人數的領域： 醫藥衛生及社會福利領域 , 共 683446.0 人, 年分： 110\n"
          ]
        }
      ]
    },
    {
      "cell_type": "code",
      "source": [
        "#Question 6\n",
        "filter = (data[\"Category1Title\"]=='女') & (data[\"Category2Title\"]=='總計') & (data[\"Period\"]==period)\n",
        "max_female = data[filter].max()\n",
        "print('6. 最多女性學生人數的領域：',max_female.Category3Title,', 共',max_female.Val,'人, 年分：', int(max_female.Period/100))"
      ],
      "metadata": {
        "colab": {
          "base_uri": "https://localhost:8080/"
        },
        "id": "mTZbJbcjPTMh",
        "outputId": "6c151201-e3d7-4709-c70d-43ab2f63c4c9"
      },
      "execution_count": 6,
      "outputs": [
        {
          "output_type": "stream",
          "name": "stdout",
          "text": [
            "6. 最多女性學生人數的領域： 醫藥衛生及社會福利領域 , 共 673721.0 人, 年分： 110\n"
          ]
        }
      ]
    },
    {
      "cell_type": "code",
      "source": [
        "#Question 7\n",
        "filter = (data[\"Category1Title\"]=='總計') & (data[\"Category2Title\"]=='碩士班') & (data[\"Period\"]==period)\n",
        "max_pro = data[filter].max()\n",
        "print('7. 碩士班最多學生人數的領域：',max_pro.Category3Title,', 共',max_pro.Val,'人, 年分：', int(max_pro.Period/100))"
      ],
      "metadata": {
        "colab": {
          "base_uri": "https://localhost:8080/"
        },
        "id": "KcYs4NeZSX0k",
        "outputId": "c05ff7a3-31a0-45e2-9754-b057dde9a755"
      },
      "execution_count": 10,
      "outputs": [
        {
          "output_type": "stream",
          "name": "stdout",
          "text": [
            "7. 碩士班最多學生人數的領域： 醫藥衛生及社會福利領域 , 共 185000.0 人, 年分： 110\n"
          ]
        }
      ]
    },
    {
      "cell_type": "code",
      "source": [
        "#Question 8\n",
        "filter = (data[\"Category1Title\"]=='總計') & (data[\"Category2Title\"]=='碩士班') & (data[\"Category3Title\"]!='其他領域') & (data[\"Period\"]==period)\n",
        "min_pro = data[filter].min()\n",
        "print('8. 碩士班最少學生人數的領域：',min_pro.Category3Title,', 共',min_pro.Val,'人, 年分：', int(min_pro.Period/100))"
      ],
      "metadata": {
        "colab": {
          "base_uri": "https://localhost:8080/"
        },
        "id": "rTmmxOyXSl2J",
        "outputId": "10a758da-b22b-4109-96e1-927e0548dca9"
      },
      "execution_count": 20,
      "outputs": [
        {
          "output_type": "stream",
          "name": "stdout",
          "text": [
            "8. 碩士班最少學生人數的領域： 商業、管理及法律領域 , 共 2576.0 人, 年分： 110\n"
          ]
        }
      ]
    },
    {
      "cell_type": "code",
      "source": [
        "#Question 9\n",
        "filter = (data[\"Category1Title\"]=='總計') & (data[\"Category2Title\"]=='學士班') & (data[\"Period\"]==period)\n",
        "max_col = data[filter].max()\n",
        "print('9. 學士班最多學生人數的領域：',max_col.Category3Title,', 共',max_col.Val,'人, 年分：', int(max_col.Period/100))"
      ],
      "metadata": {
        "colab": {
          "base_uri": "https://localhost:8080/"
        },
        "id": "FN1MJ6hlTwwc",
        "outputId": "5497bf5e-c395-4aaa-ad60-6e1788e9b67a"
      },
      "execution_count": 22,
      "outputs": [
        {
          "output_type": "stream",
          "name": "stdout",
          "text": [
            "9. 學士班最多學生人數的領域： 醫藥衛生及社會福利領域 , 共 901475.0 人, 年分： 110\n"
          ]
        }
      ]
    },
    {
      "cell_type": "code",
      "source": [
        "#Question 10\n",
        "filter = (data[\"Category1Title\"]=='總計') & (data[\"Category2Title\"]=='學士班') & (data[\"Period\"]==period) & (data[\"Category3Title\"]!='其他領域')\n",
        "min_col = data[filter].min()\n",
        "print('10. 學士班最少學生人數的領域：',min_col.Category3Title,', 共',min_col.Val,'人, 年分：', int(min_col.Period/100))"
      ],
      "metadata": {
        "colab": {
          "base_uri": "https://localhost:8080/"
        },
        "id": "gx5_hp0yT99Q",
        "outputId": "ebe27004-fd4f-4ea8-eac3-9a0ee951052e"
      },
      "execution_count": 24,
      "outputs": [
        {
          "output_type": "stream",
          "name": "stdout",
          "text": [
            "10. 學士班最少學生人數的領域： 商業、管理及法律領域 , 共 13737.0 人, 年分： 110\n"
          ]
        }
      ]
    },
    {
      "cell_type": "markdown",
      "source": [
        "# Conclusion\n",
        "可以見得在110年的總大學生以上人數皆大於過去幾年的總大學生人數，而醫藥領域則一直為學生們中最熱門的領域，反之商業、管理與法律則皆為較冷門的領域類別。  \n",
        "  \n",
        "政府資料平台擁有更多更細節的內容，在此僅做初步統計與判讀，相信可以使用更多分析方式得出更多內容。"
      ],
      "metadata": {
        "id": "R81zn2V0ULHZ"
      }
    }
  ]
}